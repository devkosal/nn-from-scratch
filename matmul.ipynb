{
 "cells": [
  {
   "cell_type": "code",
   "execution_count": 1,
   "metadata": {
    "ExecuteTime": {
     "end_time": "2019-11-01T18:50:59.911283Z",
     "start_time": "2019-11-01T18:50:59.713776Z"
    }
   },
   "outputs": [],
   "source": [
    "#export\n",
    "from torch import tensor\n",
    "import torch\n",
    "def matmul(a,b):\n",
    "    return torch.einsum(\"ik,kj->ij\",a,b) # mat mul with einsum"
   ]
  },
  {
   "cell_type": "code",
   "execution_count": 2,
   "metadata": {
    "ExecuteTime": {
     "end_time": "2019-11-01T18:51:00.541727Z",
     "start_time": "2019-11-01T18:51:00.536154Z"
    }
   },
   "outputs": [],
   "source": [
    "def matmul_old(a,b):\n",
    "    ar,ac = a.shape\n",
    "    br,bc = b.shape\n",
    "    ans = torch.zeros(ar,bc)\n",
    "    for i in range(bc):\n",
    "        ans[...,i] = (a * b[:,i]).sum(1)\n",
    "    return ans"
   ]
  },
  {
   "cell_type": "markdown",
   "metadata": {},
   "source": [
    "## Testing"
   ]
  },
  {
   "cell_type": "code",
   "execution_count": 3,
   "metadata": {
    "ExecuteTime": {
     "end_time": "2019-11-01T18:51:01.157302Z",
     "start_time": "2019-11-01T18:51:01.152163Z"
    }
   },
   "outputs": [],
   "source": [
    "m3 = tensor([[1,2,3],\n",
    "           [2,3,4]])\n",
    "m4 = tensor([[1,3],\n",
    "            [4,-2],\n",
    "            [0,-1]])"
   ]
  },
  {
   "cell_type": "code",
   "execution_count": 4,
   "metadata": {
    "ExecuteTime": {
     "end_time": "2019-11-01T18:51:01.176980Z",
     "start_time": "2019-11-01T18:51:01.158567Z"
    }
   },
   "outputs": [
    {
     "name": "stdout",
     "output_type": "stream",
     "text": [
      "CPU times: user 317 µs, sys: 50 µs, total: 367 µs\n",
      "Wall time: 214 µs\n"
     ]
    },
    {
     "data": {
      "text/plain": [
       "tensor([[ 9, -4],\n",
       "        [14, -4]])"
      ]
     },
     "execution_count": 4,
     "metadata": {},
     "output_type": "execute_result"
    }
   ],
   "source": [
    "import time\n",
    "%time m3@m4"
   ]
  },
  {
   "cell_type": "code",
   "execution_count": 5,
   "metadata": {
    "ExecuteTime": {
     "end_time": "2019-11-01T18:51:01.219176Z",
     "start_time": "2019-11-01T18:51:01.208029Z"
    }
   },
   "outputs": [
    {
     "name": "stdout",
     "output_type": "stream",
     "text": [
      "CPU times: user 0 ns, sys: 5.74 ms, total: 5.74 ms\n",
      "Wall time: 1.77 ms\n"
     ]
    },
    {
     "data": {
      "text/plain": [
       "tensor([[ 9, -4],\n",
       "        [14, -4]])"
      ]
     },
     "execution_count": 5,
     "metadata": {},
     "output_type": "execute_result"
    }
   ],
   "source": [
    "%time matmul(m3,m4)"
   ]
  },
  {
   "cell_type": "markdown",
   "metadata": {},
   "source": [
    "**@ method is three times faster than einsum**"
   ]
  },
  {
   "cell_type": "code",
   "execution_count": 6,
   "metadata": {
    "ExecuteTime": {
     "end_time": "2019-11-01T18:51:01.799789Z",
     "start_time": "2019-11-01T18:51:01.764065Z"
    }
   },
   "outputs": [
    {
     "name": "stdout",
     "output_type": "stream",
     "text": [
      "CPU times: user 4.9 ms, sys: 0 ns, total: 4.9 ms\n",
      "Wall time: 22.1 ms\n"
     ]
    },
    {
     "data": {
      "text/plain": [
       "tensor([[ 9., -4.],\n",
       "        [14., -4.]])"
      ]
     },
     "execution_count": 6,
     "metadata": {},
     "output_type": "execute_result"
    }
   ],
   "source": [
    "%time matmul_old(m3,m4)"
   ]
  },
  {
   "cell_type": "markdown",
   "metadata": {},
   "source": [
    "*old matmul is much much slower than the einsum. Einsum is the fastest non blas method to do mat mul*"
   ]
  },
  {
   "cell_type": "code",
   "execution_count": 7,
   "metadata": {
    "ExecuteTime": {
     "end_time": "2019-11-01T18:51:03.159577Z",
     "start_time": "2019-11-01T18:51:02.993162Z"
    }
   },
   "outputs": [
    {
     "name": "stdout",
     "output_type": "stream",
     "text": [
      "Converted matmul.ipynb to utils/matmul.py\r\n"
     ]
    }
   ],
   "source": [
    "! python notebook2script.py matmul.ipynb"
   ]
  },
  {
   "cell_type": "code",
   "execution_count": null,
   "metadata": {},
   "outputs": [],
   "source": []
  }
 ],
 "metadata": {
  "kernelspec": {
   "display_name": "Python 3",
   "language": "python",
   "name": "python3"
  },
  "language_info": {
   "codemirror_mode": {
    "name": "ipython",
    "version": 3
   },
   "file_extension": ".py",
   "mimetype": "text/x-python",
   "name": "python",
   "nbconvert_exporter": "python",
   "pygments_lexer": "ipython3",
   "version": "3.7.3"
  }
 },
 "nbformat": 4,
 "nbformat_minor": 2
}
